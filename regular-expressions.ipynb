{
 "cells": [
  {
   "cell_type": "markdown",
   "id": "7f1518b1-05be-4b91-b5fc-b7cdd3ae6863",
   "metadata": {},
   "source": [
    "## 1. Import Libraries"
   ]
  },
  {
   "cell_type": "code",
   "execution_count": null,
   "id": "494bf4e1-018b-4b14-954f-c9b79b650079",
   "metadata": {},
   "outputs": [],
   "source": []
  },
  {
   "cell_type": "markdown",
   "id": "d90efe96-5bb6-4980-815d-845eab51999e",
   "metadata": {},
   "source": [
    "## 2. Raw Strings"
   ]
  },
  {
   "cell_type": "code",
   "execution_count": null,
   "id": "fd984dfc-e6a4-41d9-8ee8-6c90a707c783",
   "metadata": {},
   "outputs": [],
   "source": []
  },
  {
   "cell_type": "code",
   "execution_count": null,
   "id": "df211067-f686-4588-ab06-d18a4ac7a3ca",
   "metadata": {},
   "outputs": [],
   "source": []
  },
  {
   "cell_type": "markdown",
   "id": "fc6109af-c97a-4b3d-8a6d-a8dc4ae794b8",
   "metadata": {},
   "source": [
    "## 3. Search Operations"
   ]
  },
  {
   "cell_type": "code",
   "execution_count": 1,
   "id": "eb8bb9b0-8857-4ae2-b795-42d3b3e3eb1f",
   "metadata": {},
   "outputs": [],
   "source": [
    "test_string = \"123abc456789abc123ABC\""
   ]
  },
  {
   "cell_type": "code",
   "execution_count": 2,
   "id": "267189c3-0bb3-4cca-ac8b-d096bd2c83f9",
   "metadata": {},
   "outputs": [],
   "source": [
    "# re.match()"
   ]
  },
  {
   "cell_type": "code",
   "execution_count": null,
   "id": "4b3c8ab4-abdd-455d-8d3f-bfd34e51a338",
   "metadata": {},
   "outputs": [],
   "source": []
  },
  {
   "cell_type": "code",
   "execution_count": 3,
   "id": "ae09e531-fd81-4085-a808-d395b6395b17",
   "metadata": {},
   "outputs": [],
   "source": [
    "# re.search()"
   ]
  },
  {
   "cell_type": "code",
   "execution_count": null,
   "id": "981e45e1-9629-4d16-8279-673bdb9b5d71",
   "metadata": {},
   "outputs": [],
   "source": []
  },
  {
   "cell_type": "code",
   "execution_count": 4,
   "id": "36d4c045-f571-42e8-84dd-71b29629abc6",
   "metadata": {},
   "outputs": [],
   "source": [
    "# re.findall()"
   ]
  },
  {
   "cell_type": "code",
   "execution_count": null,
   "id": "e0444189-aa8c-4bd1-92fa-667189b78fc2",
   "metadata": {},
   "outputs": [],
   "source": []
  },
  {
   "cell_type": "code",
   "execution_count": 5,
   "id": "f96c3f2b-b664-4a78-ad00-b0f8d6489421",
   "metadata": {},
   "outputs": [],
   "source": [
    "# re.finditer()"
   ]
  },
  {
   "cell_type": "code",
   "execution_count": null,
   "id": "952f02e7-f3eb-4bd8-be31-78b2f63c8345",
   "metadata": {},
   "outputs": [],
   "source": []
  },
  {
   "cell_type": "markdown",
   "id": "848dac78-7810-475b-a6ed-a624721a4089",
   "metadata": {},
   "source": [
    "## 4. Meta Characters"
   ]
  },
  {
   "cell_type": "code",
   "execution_count": 6,
   "id": "156acd2d-6ca2-41f2-8977-2ce8fb59132d",
   "metadata": {},
   "outputs": [],
   "source": [
    "test_string_1 = \"123abc.456789abc123defGHI.ABC \\n xyz345WXYZ\""
   ]
  },
  {
   "cell_type": "code",
   "execution_count": 7,
   "id": "c561f1a7-5f38-4654-8af8-a0d5adfbaff5",
   "metadata": {},
   "outputs": [],
   "source": [
    "test_string_2 = \"The cat sat on the mat with a bat and a hat.\""
   ]
  },
  {
   "cell_type": "code",
   "execution_count": 8,
   "id": "e87d9726-6e33-4bd9-83e1-0cab3f32d2e6",
   "metadata": {},
   "outputs": [],
   "source": [
    "test_string_3 = \"The cat sat on the mat with a bat and a hat. $at, 8at, at.\""
   ]
  },
  {
   "cell_type": "code",
   "execution_count": 9,
   "id": "23e8202f-5b13-4fdd-81c8-0eb2b2942a2e",
   "metadata": {},
   "outputs": [],
   "source": [
    "text = \"\"\"Hello World!\n",
    "This is a test.\n",
    "Hello again!\n",
    "Python is fun.\n",
    "Hello Python\"\"\""
   ]
  },
  {
   "cell_type": "markdown",
   "id": "5f98b41d-074c-436e-8bd2-b54cd2558c2f",
   "metadata": {},
   "source": [
    "### 4.1 dot (.)"
   ]
  },
  {
   "cell_type": "code",
   "execution_count": null,
   "id": "e03f03b9-cb0f-4762-9109-dd167fe8f329",
   "metadata": {},
   "outputs": [],
   "source": []
  },
  {
   "cell_type": "markdown",
   "id": "9286a07b-255b-4e1a-a199-737075998d06",
   "metadata": {},
   "source": [
    "### 4.2 carat (^)"
   ]
  },
  {
   "cell_type": "code",
   "execution_count": null,
   "id": "c37fdfd6-0d34-4efd-a5a7-32da44d00253",
   "metadata": {},
   "outputs": [],
   "source": []
  },
  {
   "cell_type": "markdown",
   "id": "f0abb8ab-3282-4f60-85bd-99b55f9aa679",
   "metadata": {},
   "source": [
    "### 4.3 dollar ($)"
   ]
  },
  {
   "cell_type": "code",
   "execution_count": null,
   "id": "2a408815-8996-4de1-85c0-a68c48dae7f0",
   "metadata": {},
   "outputs": [],
   "source": []
  },
  {
   "cell_type": "markdown",
   "id": "87a000fe-2316-4fe4-8786-ee1ccdb9405c",
   "metadata": {},
   "source": [
    "## 5. Character Sets"
   ]
  },
  {
   "cell_type": "markdown",
   "id": "83a35f6c-47d2-4e8e-a890-4888d8b5f8d1",
   "metadata": {},
   "source": [
    "### 5.1 Custom Character Sets"
   ]
  },
  {
   "cell_type": "code",
   "execution_count": 10,
   "id": "8485df79-4eab-4dd0-9d3a-849a18e342da",
   "metadata": {},
   "outputs": [],
   "source": [
    "test_string = \"123abc.4567XYZ$89abc123  def%GHIxyz.ABC#i.\""
   ]
  },
  {
   "cell_type": "markdown",
   "id": "3fd3fd10-8a39-4e9c-8b8b-738df53d247f",
   "metadata": {},
   "source": [
    "#### 5.1.1 Literal Characters"
   ]
  },
  {
   "cell_type": "code",
   "execution_count": 11,
   "id": "f32857ec-da18-4b52-9999-465ba132df39",
   "metadata": {},
   "outputs": [],
   "source": [
    "# vowels"
   ]
  },
  {
   "cell_type": "code",
   "execution_count": null,
   "id": "462ad3ab-b499-4884-a8dd-70900c282edb",
   "metadata": {},
   "outputs": [],
   "source": []
  },
  {
   "cell_type": "code",
   "execution_count": 12,
   "id": "868afd78-8484-4799-9c49-de86325f586b",
   "metadata": {},
   "outputs": [],
   "source": [
    "# digits"
   ]
  },
  {
   "cell_type": "code",
   "execution_count": null,
   "id": "086f4c1c-12b2-4e10-88c9-2722d13df9df",
   "metadata": {},
   "outputs": [],
   "source": []
  },
  {
   "cell_type": "code",
   "execution_count": 13,
   "id": "edf85a13-1280-4500-9ef6-b788c05a3228",
   "metadata": {},
   "outputs": [],
   "source": [
    "# even numbers"
   ]
  },
  {
   "cell_type": "code",
   "execution_count": null,
   "id": "dda286d9-9fd1-47c6-922a-1f187857df1c",
   "metadata": {},
   "outputs": [],
   "source": []
  },
  {
   "cell_type": "markdown",
   "id": "5a2f5f2c-a400-4159-af3c-a6e562d5dcb9",
   "metadata": {},
   "source": [
    "#### 5.1.2 Character Ranges"
   ]
  },
  {
   "cell_type": "code",
   "execution_count": 14,
   "id": "e095ea0f-852e-4038-96fc-4afcd32c82ae",
   "metadata": {},
   "outputs": [],
   "source": [
    "# digits"
   ]
  },
  {
   "cell_type": "code",
   "execution_count": null,
   "id": "bd12457f-a68b-447f-9a52-c30e7e139f93",
   "metadata": {},
   "outputs": [],
   "source": []
  },
  {
   "cell_type": "code",
   "execution_count": 15,
   "id": "297034f7-732a-4076-b80c-7ee341261d09",
   "metadata": {},
   "outputs": [],
   "source": [
    "# alphabets"
   ]
  },
  {
   "cell_type": "code",
   "execution_count": null,
   "id": "a0774765-4ba3-450e-84c3-2f1364d4dbfe",
   "metadata": {},
   "outputs": [],
   "source": []
  },
  {
   "cell_type": "code",
   "execution_count": 16,
   "id": "fe6b1eb2-5a7a-4c91-96df-c911272296f9",
   "metadata": {},
   "outputs": [],
   "source": [
    "# hexadecimal characters"
   ]
  },
  {
   "cell_type": "code",
   "execution_count": null,
   "id": "36ce771c-bcf0-4c21-9d71-4987b0047e2d",
   "metadata": {},
   "outputs": [],
   "source": []
  },
  {
   "cell_type": "markdown",
   "id": "b5f4ee03-a778-447e-abc1-b910255752e6",
   "metadata": {},
   "source": [
    "#### 5.1.3 Character Negation"
   ]
  },
  {
   "cell_type": "code",
   "execution_count": 17,
   "id": "da86efd0-608c-480e-a30f-300440ac69fc",
   "metadata": {},
   "outputs": [],
   "source": [
    "# consonents"
   ]
  },
  {
   "cell_type": "code",
   "execution_count": null,
   "id": "a216c731-11a3-45aa-a2c2-8d9fe2f781a1",
   "metadata": {},
   "outputs": [],
   "source": []
  },
  {
   "cell_type": "code",
   "execution_count": 18,
   "id": "6d6e695c-dc0b-48b1-8b44-fee08ab076e5",
   "metadata": {},
   "outputs": [],
   "source": [
    "# not even numbers"
   ]
  },
  {
   "cell_type": "code",
   "execution_count": null,
   "id": "a5aa9390-b373-46f0-a3a6-3b2fb7963fc2",
   "metadata": {},
   "outputs": [],
   "source": []
  },
  {
   "cell_type": "code",
   "execution_count": 19,
   "id": "e893bf30-d375-40bc-9d24-308a4f7b0130",
   "metadata": {},
   "outputs": [],
   "source": [
    "# special characters"
   ]
  },
  {
   "cell_type": "code",
   "execution_count": null,
   "id": "54b0a1c7-66b9-44c9-bd3e-bf7a630c0def",
   "metadata": {},
   "outputs": [],
   "source": []
  },
  {
   "cell_type": "markdown",
   "id": "d124124d-2d2e-44ed-8137-138b18276cf8",
   "metadata": {},
   "source": [
    "### 5.2 Pre-defined Character Sets"
   ]
  },
  {
   "cell_type": "code",
   "execution_count": 20,
   "id": "2328f091-c3c4-427b-9fb5-b0ff604a2cb3",
   "metadata": {},
   "outputs": [],
   "source": [
    "test_string_1 = \"123abc.4567XYZ$89abc123 def%GHIxyz .ABC#i.\"\n",
    "\n",
    "test_string_2 = \"123abc.4567\\nXYZ$89abc123 def%GHI\\nxyz .ABC#i.\"\n",
    "\n",
    "test_string_3 = 'heyhello 123_ heyho hohey'"
   ]
  },
  {
   "cell_type": "code",
   "execution_count": 21,
   "id": "c34e32b8-3285-4ef0-9b6b-b921b36456f4",
   "metadata": {},
   "outputs": [],
   "source": [
    "# digits"
   ]
  },
  {
   "cell_type": "code",
   "execution_count": null,
   "id": "8ae6e0ba-10fe-478e-91cb-7e312aea25a4",
   "metadata": {},
   "outputs": [],
   "source": []
  },
  {
   "cell_type": "code",
   "execution_count": 22,
   "id": "1cfd1213-46cb-471a-ac06-93b417e0e2c8",
   "metadata": {},
   "outputs": [],
   "source": [
    "# not digits"
   ]
  },
  {
   "cell_type": "code",
   "execution_count": null,
   "id": "c7b26bb4-9db9-4a55-a007-85c1c42fbf10",
   "metadata": {},
   "outputs": [],
   "source": []
  },
  {
   "cell_type": "code",
   "execution_count": 23,
   "id": "305d1893-9a64-41f6-bad4-85a349616ae2",
   "metadata": {},
   "outputs": [],
   "source": [
    "# whitespaces"
   ]
  },
  {
   "cell_type": "code",
   "execution_count": null,
   "id": "49fd1b91-bf83-4b13-9108-57cf6af443c5",
   "metadata": {},
   "outputs": [],
   "source": []
  },
  {
   "cell_type": "code",
   "execution_count": 24,
   "id": "a58157f2-f50b-4be4-8f5d-66e3aae11738",
   "metadata": {},
   "outputs": [],
   "source": [
    "# not whitespaces"
   ]
  },
  {
   "cell_type": "code",
   "execution_count": null,
   "id": "77449776-5538-4480-8cc6-2e2bc38055a0",
   "metadata": {},
   "outputs": [],
   "source": []
  },
  {
   "cell_type": "code",
   "execution_count": 25,
   "id": "2543b961-5db6-420f-a87e-4666d653886c",
   "metadata": {},
   "outputs": [],
   "source": [
    "# alphanumeric"
   ]
  },
  {
   "cell_type": "code",
   "execution_count": null,
   "id": "a3bdfe21-917c-4bc4-bee6-bb5e60c89365",
   "metadata": {},
   "outputs": [],
   "source": []
  },
  {
   "cell_type": "code",
   "execution_count": 26,
   "id": "34baa5d7-5ab9-48e4-8992-2cd277da1bad",
   "metadata": {},
   "outputs": [],
   "source": [
    "# not alphanumeric"
   ]
  },
  {
   "cell_type": "code",
   "execution_count": null,
   "id": "733cb9fd-f78f-49df-aee5-5ccf5958831e",
   "metadata": {},
   "outputs": [],
   "source": []
  },
  {
   "cell_type": "code",
   "execution_count": 27,
   "id": "115e9d50-0240-47d2-84ad-83129eefeb98",
   "metadata": {},
   "outputs": [],
   "source": [
    "# word boundary"
   ]
  },
  {
   "cell_type": "code",
   "execution_count": null,
   "id": "08df0910-571b-433a-9575-0dfc1d13b653",
   "metadata": {},
   "outputs": [],
   "source": []
  },
  {
   "cell_type": "markdown",
   "id": "36f92bd1-6004-40d9-b686-0d5c8ad77fc3",
   "metadata": {},
   "source": [
    "## 6. Quantifiers"
   ]
  },
  {
   "cell_type": "code",
   "execution_count": 28,
   "id": "ca85397b-b01d-441c-b6e8-e27eec0745d6",
   "metadata": {},
   "outputs": [],
   "source": [
    "test_string_1 = \"no no noo nooo noooothing noo\"\n",
    "\n",
    "test_string_2 = \"The colour of the sky and the color of the ocean are different.\"\n",
    "\n",
    "test_string_3 = \"We can use either http or https to generate URLs.\"\n",
    "\n",
    "test_string_4 = \"aaXaaaXaaaaXaaaaaX\"\n",
    "\n",
    "test_string_5 = \"<div>First div</div><div>Second div</div>\""
   ]
  },
  {
   "cell_type": "markdown",
   "id": "28b487f5-b26f-4fcc-b1b1-e7ff77aabc36",
   "metadata": {},
   "source": [
    "### 6.1 Greedy"
   ]
  },
  {
   "cell_type": "code",
   "execution_count": null,
   "id": "187de5d1-bd94-4771-8559-3229046f8242",
   "metadata": {},
   "outputs": [],
   "source": []
  },
  {
   "cell_type": "markdown",
   "id": "13753e49-279e-4d36-8e6c-0259cc719c25",
   "metadata": {},
   "source": [
    "### 6.2 Lazy"
   ]
  },
  {
   "cell_type": "code",
   "execution_count": null,
   "id": "4556339e-d092-4ca6-b069-d2415fe5453f",
   "metadata": {},
   "outputs": [],
   "source": []
  },
  {
   "cell_type": "markdown",
   "id": "d560d7f0-923a-44a7-9cba-0bac1bc02f9d",
   "metadata": {},
   "source": [
    "## 7. Grouping"
   ]
  },
  {
   "cell_type": "code",
   "execution_count": 29,
   "id": "87a8a0c3-e6ef-4ab6-a25d-2f802b65cd34",
   "metadata": {},
   "outputs": [],
   "source": [
    "test_string_1 = \"Call me at (123) 456-7890 or (456) 7890123 or (789) 201 3465.\"\n",
    "\n",
    "test_string_2 = \"\"\"\n",
    "<div>This is a div tag</div>\n",
    "<p>This is a paragraph tag</p>\n",
    "<div>This is another div tag</div>\n",
    "<h2>This is header div tag</h2>\n",
    "\"\"\"\n",
    "\n",
    "test_string_3 = \"\"\"\n",
    "hello hello\n",
    "world world\n",
    "python python\n",
    "\"\"\"\n",
    "\n",
    "test_string_4 = \"Visit our website at https://example.com or http://example.net\"\n",
    "\n",
    "test_string_5 = \"\"\"\n",
    "Mr. Wayne\n",
    "Mr Kent\n",
    "Ms Romanoff\n",
    "Mrs. Stark\n",
    "Mr. M\n",
    "\"\"\""
   ]
  },
  {
   "cell_type": "markdown",
   "id": "e17bbdaf-c809-47b2-b6f8-ea4139ae053d",
   "metadata": {},
   "source": [
    "### 7.1 Capture Groups"
   ]
  },
  {
   "cell_type": "code",
   "execution_count": null,
   "id": "f344aa1c-9bfb-4455-a0c1-b9a93c940f01",
   "metadata": {},
   "outputs": [],
   "source": []
  },
  {
   "cell_type": "markdown",
   "id": "746ac93d-8427-4988-81e1-cd8190c835f2",
   "metadata": {},
   "source": [
    "### 7.2 Named Capture Groups"
   ]
  },
  {
   "cell_type": "code",
   "execution_count": null,
   "id": "01f447d6-fc94-4937-bdd7-f60c301d7203",
   "metadata": {},
   "outputs": [],
   "source": []
  },
  {
   "cell_type": "markdown",
   "id": "b049b5bc-7a0a-4de3-a16a-4156e6a02fea",
   "metadata": {},
   "source": [
    "### 7.3 Backreferences"
   ]
  },
  {
   "cell_type": "code",
   "execution_count": 30,
   "id": "dcd50b47-82a5-48fa-bac7-db9814a11297",
   "metadata": {},
   "outputs": [],
   "source": [
    "# default groups"
   ]
  },
  {
   "cell_type": "code",
   "execution_count": null,
   "id": "f248d6ac-6a2e-42fe-a532-f8e765b225d9",
   "metadata": {},
   "outputs": [],
   "source": []
  },
  {
   "cell_type": "code",
   "execution_count": 31,
   "id": "ccafc4be-7f27-48ae-ba62-70e1db369d57",
   "metadata": {},
   "outputs": [],
   "source": [
    "# named groups"
   ]
  },
  {
   "cell_type": "code",
   "execution_count": null,
   "id": "9f68ecb7-77c7-4499-917a-2db25595a5a6",
   "metadata": {},
   "outputs": [],
   "source": []
  },
  {
   "cell_type": "markdown",
   "id": "f1ea4227-921b-4242-830a-c5b2722d3821",
   "metadata": {},
   "source": [
    "### 7.4 Non-capture Groups"
   ]
  },
  {
   "cell_type": "code",
   "execution_count": null,
   "id": "5052d3c3-377e-4964-9804-ddae0d04444e",
   "metadata": {},
   "outputs": [],
   "source": []
  },
  {
   "cell_type": "markdown",
   "id": "76e27d58-f72f-43e7-945d-8a86570682c9",
   "metadata": {},
   "source": [
    "### 7.5 Alternation"
   ]
  },
  {
   "cell_type": "code",
   "execution_count": null,
   "id": "b59f6043-48d5-4b1a-8e9f-f2d1cb831975",
   "metadata": {},
   "outputs": [],
   "source": []
  },
  {
   "cell_type": "markdown",
   "id": "8a0ae423-9d39-4b05-bf8e-52bc98c205a7",
   "metadata": {},
   "source": [
    "## 8. String Modifications"
   ]
  },
  {
   "cell_type": "code",
   "execution_count": 32,
   "id": "e02599ad-5721-4fe9-a668-ac82383c5c84",
   "metadata": {},
   "outputs": [],
   "source": [
    "test_string_1 = \"This is the first sentence. This is the second sentence! This is the third sentence?\"\n",
    "\n",
    "test_string_2 = \"Visit our website at https://website1.com or http://website2.net\""
   ]
  },
  {
   "cell_type": "markdown",
   "id": "9fbed46a-3008-46bb-96af-b05a2bd99f7a",
   "metadata": {},
   "source": [
    "### 8.1 Splitting"
   ]
  },
  {
   "cell_type": "code",
   "execution_count": 33,
   "id": "058ff687-477e-4afc-aa33-9701f40a7019",
   "metadata": {},
   "outputs": [],
   "source": [
    "# sentences"
   ]
  },
  {
   "cell_type": "code",
   "execution_count": null,
   "id": "1954562c-0208-4a7c-8dd4-a1ce7d1d8c05",
   "metadata": {},
   "outputs": [],
   "source": []
  },
  {
   "cell_type": "markdown",
   "id": "a259bd9a-5ea4-4eaa-a6ae-b3426aba1844",
   "metadata": {},
   "source": [
    "### 8.2 Substitution"
   ]
  },
  {
   "cell_type": "code",
   "execution_count": 34,
   "id": "4f2c2d46-e675-4104-9c6e-7978cb10c034",
   "metadata": {},
   "outputs": [],
   "source": [
    "# <website>.co.in"
   ]
  },
  {
   "cell_type": "code",
   "execution_count": null,
   "id": "84568b3c-cea6-494d-b3f6-43886ed6c31a",
   "metadata": {},
   "outputs": [],
   "source": []
  },
  {
   "cell_type": "markdown",
   "id": "c00d0a2f-c454-40a8-8fce-2c15d7a94452",
   "metadata": {},
   "source": [
    "## 9. Lookahead and Lookbehind Assertions"
   ]
  },
  {
   "cell_type": "code",
   "execution_count": 35,
   "id": "3728185a-f826-4df8-ae15-5cb4bf98c2fa",
   "metadata": {},
   "outputs": [],
   "source": [
    "test_string_1 = \"\"\"\n",
    "100 USD\n",
    "150 USD\n",
    "85 INR\n",
    "120 AED\n",
    "60 USD\n",
    "70 INR\n",
    "\"\"\"\n",
    "\n",
    "test_string_2 = \"\"\"\n",
    "Chris Evans\n",
    "Chris Hemsworth\n",
    "Chris Pratt\n",
    "Tom Holland\n",
    "Tom Hiddleston\n",
    "\"\"\""
   ]
  },
  {
   "cell_type": "markdown",
   "id": "5014d3b1-26b2-425a-9283-33fbf2689cef",
   "metadata": {},
   "source": [
    "### 9.1 Positive Lookahead Assertion"
   ]
  },
  {
   "cell_type": "code",
   "execution_count": 36,
   "id": "b0ba2735-e711-494b-b0d8-d0956e448870",
   "metadata": {},
   "outputs": [],
   "source": [
    "# followed by 'USD'"
   ]
  },
  {
   "cell_type": "code",
   "execution_count": null,
   "id": "e68dfa12-3d70-4310-bd55-d5af7b89cafd",
   "metadata": {},
   "outputs": [],
   "source": []
  },
  {
   "cell_type": "markdown",
   "id": "9ff40a91-6d85-43a8-823a-d7ad26da8683",
   "metadata": {},
   "source": [
    "### 9.2 Negative Lookahead Assertion"
   ]
  },
  {
   "cell_type": "code",
   "execution_count": 37,
   "id": "45e2456d-f6ce-47e4-af4d-0b8b0a24cc7d",
   "metadata": {},
   "outputs": [],
   "source": [
    "# not followed by 'USD'"
   ]
  },
  {
   "cell_type": "code",
   "execution_count": null,
   "id": "8b06b735-de34-482d-b5da-054251f8e6e4",
   "metadata": {},
   "outputs": [],
   "source": []
  },
  {
   "cell_type": "markdown",
   "id": "2b9759b6-d3de-4d6d-a289-5ce7a1e71493",
   "metadata": {},
   "source": [
    "### 9.3 Positive Lookbehind Assertion"
   ]
  },
  {
   "cell_type": "code",
   "execution_count": 38,
   "id": "4f0df6a6-65f9-4f6c-9459-e0383fd35084",
   "metadata": {},
   "outputs": [],
   "source": [
    "# preceded by 'Chris'"
   ]
  },
  {
   "cell_type": "code",
   "execution_count": null,
   "id": "11f13c84-268b-460c-aa11-c6a3c2fcdad5",
   "metadata": {},
   "outputs": [],
   "source": []
  },
  {
   "cell_type": "markdown",
   "id": "64748253-4277-492a-a05f-00c06edaadca",
   "metadata": {},
   "source": [
    "### 9.4 Negative Lookbehind Assertion"
   ]
  },
  {
   "cell_type": "code",
   "execution_count": 39,
   "id": "4f6053b0-6fa9-4931-9055-603c83253118",
   "metadata": {},
   "outputs": [],
   "source": [
    "# not preceded by 'Chris'"
   ]
  },
  {
   "cell_type": "code",
   "execution_count": null,
   "id": "fe83c524-f74a-46a9-91a3-c4bc8dcb8d89",
   "metadata": {},
   "outputs": [],
   "source": []
  },
  {
   "cell_type": "markdown",
   "id": "e3fdcdd3-4419-4acd-a2d8-14d00b1aa535",
   "metadata": {},
   "source": [
    "## 10. Flags"
   ]
  },
  {
   "cell_type": "code",
   "execution_count": 40,
   "id": "18578b53-9401-4842-886b-85ea10ade337",
   "metadata": {},
   "outputs": [],
   "source": [
    "test_string = \"\"\"\n",
    "Hello World!\n",
    "This is a test.\n",
    "Hello again!\n",
    "Python is fun.\n",
    "Hello Python.\n",
    "\"\"\""
   ]
  },
  {
   "cell_type": "code",
   "execution_count": null,
   "id": "84721f82-cd6d-4497-b439-26e9cf06a36a",
   "metadata": {},
   "outputs": [],
   "source": []
  },
  {
   "cell_type": "code",
   "execution_count": null,
   "id": "213c1e6e-785e-4d69-a735-2622f39a9178",
   "metadata": {},
   "outputs": [],
   "source": []
  },
  {
   "cell_type": "markdown",
   "id": "5cc9fae6-ffab-4cce-a078-af6e20218afd",
   "metadata": {},
   "source": [
    "## 11. Practice Exercises"
   ]
  },
  {
   "cell_type": "markdown",
   "id": "8c24046d-617b-4796-a315-8092d28be848",
   "metadata": {},
   "source": [
    "### Q1. Extract all email addresses from given text"
   ]
  },
  {
   "cell_type": "code",
   "execution_count": 41,
   "id": "1913ed97-5989-467f-a672-6f9f739e9805",
   "metadata": {},
   "outputs": [],
   "source": [
    "text = \"\"\"\n",
    "Hello John, please contact us at support@example.com for further assistance.\n",
    "You can also reach out to our manager at manager@example.org or sales@example.net.\n",
    "Thank you, support@example.com.\n",
    "\"\"\""
   ]
  },
  {
   "cell_type": "code",
   "execution_count": null,
   "id": "50f8a932-2557-42b3-9b44-bf920968ec58",
   "metadata": {},
   "outputs": [],
   "source": []
  },
  {
   "cell_type": "markdown",
   "id": "6ffdb0f9-47b8-40af-865b-159874c5c08c",
   "metadata": {},
   "source": [
    "### Q2. Validate phone numbers and callout invalid ones \n",
    "\n",
    "- valid format: (XXX) XXX-XXXX"
   ]
  },
  {
   "cell_type": "code",
   "execution_count": 42,
   "id": "f11e0499-94d9-40ed-ba8f-e7957b0bcb94",
   "metadata": {},
   "outputs": [],
   "source": [
    "phone_numbers = [\n",
    "    \"(123) 456-7890\",\n",
    "    \"(987) 654-3210\",\n",
    "    \"123-456-7890\",\n",
    "    \"(123)456-7890\",\n",
    "    \"(123) 456-78901\"\n",
    "]"
   ]
  },
  {
   "cell_type": "code",
   "execution_count": null,
   "id": "2690e8a5-d59a-4651-8742-fd4a0e01acfb",
   "metadata": {},
   "outputs": [],
   "source": []
  },
  {
   "cell_type": "markdown",
   "id": "379dc5a3-9ba6-4532-bd81-53a4558f7e55",
   "metadata": {},
   "source": [
    "### Q3. From Q2, represent all numbers in valid format"
   ]
  },
  {
   "cell_type": "code",
   "execution_count": null,
   "id": "a9cae446-29ce-4847-b6c7-5bfaf642da1b",
   "metadata": {},
   "outputs": [],
   "source": []
  },
  {
   "cell_type": "markdown",
   "id": "cfe78cfb-6c37-4bc9-bcf2-807f01865e3e",
   "metadata": {},
   "source": [
    "### Q4. Identify dates & modify format to YYYY-MM-DD from below text"
   ]
  },
  {
   "cell_type": "code",
   "execution_count": 43,
   "id": "0907c6bc-63a1-48df-9588-27bd761dcfc5",
   "metadata": {},
   "outputs": [],
   "source": [
    "text = \"We have meetings scheduled on 12/05/2023, 23/06/2024, and 07/07/2025.\""
   ]
  },
  {
   "cell_type": "code",
   "execution_count": null,
   "id": "a43d84de-f337-4666-8ce0-482634210eab",
   "metadata": {},
   "outputs": [],
   "source": []
  },
  {
   "cell_type": "markdown",
   "id": "c5e5f297-55e0-426a-a020-5fca60b81f12",
   "metadata": {},
   "source": [
    "### Q5. Extract URLs from given text"
   ]
  },
  {
   "cell_type": "code",
   "execution_count": 44,
   "id": "52b91be3-97ba-4ae0-b7cc-64d2c809f7c2",
   "metadata": {},
   "outputs": [],
   "source": [
    "text = \"\"\"\n",
    "Visit our website at https://www.example.com for more information.\n",
    "You can also check out our blog at http://blog.example.com or follow us on https://twitter.com/example.\n",
    "\"\"\""
   ]
  },
  {
   "cell_type": "code",
   "execution_count": null,
   "id": "95aa7fba-b74f-4ed5-95ea-6eef6753625c",
   "metadata": {},
   "outputs": [],
   "source": []
  },
  {
   "cell_type": "markdown",
   "id": "6f49b06e-0ad4-4f79-8bae-0fb5d6c3bf3b",
   "metadata": {},
   "source": [
    "### Q6. Extract all sentences from below text"
   ]
  },
  {
   "cell_type": "code",
   "execution_count": 45,
   "id": "7b0ecc64-0d96-4130-9442-baeb047019a3",
   "metadata": {},
   "outputs": [],
   "source": [
    "text = \"Hello world! How are you doing today? This is a great day. Let's make the most of it.\""
   ]
  },
  {
   "cell_type": "code",
   "execution_count": null,
   "id": "9a847171-1c36-4a55-8acb-2f431204c78e",
   "metadata": {},
   "outputs": [],
   "source": []
  },
  {
   "cell_type": "markdown",
   "id": "ddbb11a5-15d4-4fb0-9aa7-ed73f68602e9",
   "metadata": {},
   "source": [
    "### Q7. Validate passwords based on following conditions:\n",
    "\n",
    "- atleast 8 characters in length\n",
    "- atleast one lowercase alphabet\n",
    "- atleast one uppercase alphabet\n",
    "- atleast one numeric digit"
   ]
  },
  {
   "cell_type": "code",
   "execution_count": 46,
   "id": "179339b3-e089-4cf0-9e80-d918a9483767",
   "metadata": {},
   "outputs": [],
   "source": [
    "passwords = [\n",
    "    \"Password123\",\n",
    "    \"pass123\",\n",
    "    \"PASSWORD123\",\n",
    "    \"Pass123\",\n",
    "    \"ValidPass1\"\n",
    "]"
   ]
  },
  {
   "cell_type": "code",
   "execution_count": null,
   "id": "52fce78c-2cbd-41ea-bb3f-79b3805c9583",
   "metadata": {},
   "outputs": [],
   "source": []
  },
  {
   "cell_type": "markdown",
   "id": "fe174959-4b1d-4858-86d2-c35ff8d5f04d",
   "metadata": {},
   "source": [
    "### Q8. Remove all HTML tags from given text"
   ]
  },
  {
   "cell_type": "code",
   "execution_count": 47,
   "id": "3743f13f-aac1-4aaf-9244-8fe393a87c10",
   "metadata": {},
   "outputs": [],
   "source": [
    "text = \"\"\"\n",
    "<p>\n",
    "The <strong>advent of technology</strong> in the 21st century has revolutionized the way we live and interact with the world around us. From the <em>smartphones</em> we carry to the <a href=\"https://en.wikipedia.org/wiki/Internet_of_things\" target=\"_blank\">Internet of Things</a> (IoT) devices that connect our homes, technology has become an <u>integral part</u> of our daily lives. <br><br>\n",
    "Consider the impact of <abbr title=\"Artificial Intelligence\">AI</abbr> on various industries. AI-driven applications are transforming <span style=\"color: blue;\">healthcare</span> by enabling predictive diagnostics and personalized treatment plans. In the realm of <span style=\"font-weight: bold;\">education</span>, AI is facilitating adaptive learning experiences that cater to individual student needs. <br><br>\n",
    "Moreover, the <mark>explosion of data</mark> has given rise to the field of data science, where professionals analyze vast amounts of information to uncover <q>insights</q> that drive decision-making across sectors. In <cite>finance</cite>, algorithms are being used to detect fraudulent activities and to automate trading processes, making the markets more efficient. <br><br>\n",
    "The rise of <kbd>cloud computing</kbd> has also played a crucial role in this technological transformation. By offering scalable and flexible computing resources, the cloud has enabled businesses to innovate without the constraints of physical infrastructure. This shift to the cloud has made it possible for <ins>startups</ins> and large enterprises alike to <del>maintain</del> <ins>achieve</ins> high levels of agility and resilience. <br><br>\n",
    "Looking ahead, the integration of <sup>5G</sup> networks promises to further accelerate the capabilities of connected devices, paving the way for advancements in areas such as <sub>autonomous vehicles</sub> and smart cities. As we continue to explore the potential of these emerging technologies, it is imperative that we also address the ethical and societal implications they bring. <br><br>\n",
    "In conclusion, the <strong>rapid pace</strong> of technological advancement presents both opportunities and challenges. By embracing innovation while remaining mindful of its impact, we can <i>harness the power</i> of technology to <u>create a better future</u> for all.\n",
    "</p>\n",
    "\"\"\""
   ]
  },
  {
   "cell_type": "code",
   "execution_count": 48,
   "id": "3b8b567d-b61a-48d6-9441-6922aae473b1",
   "metadata": {},
   "outputs": [],
   "source": [
    "# identify the HTML tags"
   ]
  },
  {
   "cell_type": "code",
   "execution_count": null,
   "id": "3635fb11-87dd-49ba-bc7e-a74314ba1c0e",
   "metadata": {},
   "outputs": [],
   "source": []
  },
  {
   "cell_type": "code",
   "execution_count": 49,
   "id": "6c506f58-5871-48d5-9d05-3c6469ea54bb",
   "metadata": {},
   "outputs": [],
   "source": [
    "# remove the HTML tags"
   ]
  },
  {
   "cell_type": "code",
   "execution_count": null,
   "id": "ac5d4249-7dec-4c9c-9b50-b3e5eec963aa",
   "metadata": {},
   "outputs": [],
   "source": []
  }
 ],
 "metadata": {
  "kernelspec": {
   "display_name": "demo",
   "language": "python",
   "name": "demo"
  },
  "language_info": {
   "codemirror_mode": {
    "name": "ipython",
    "version": 3
   },
   "file_extension": ".py",
   "mimetype": "text/x-python",
   "name": "python",
   "nbconvert_exporter": "python",
   "pygments_lexer": "ipython3",
   "version": "3.11.1"
  }
 },
 "nbformat": 4,
 "nbformat_minor": 5
}
